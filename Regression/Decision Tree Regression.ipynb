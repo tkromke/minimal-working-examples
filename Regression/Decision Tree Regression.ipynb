{
 "cells": [
  {
   "cell_type": "markdown",
   "id": "70a66cd0",
   "metadata": {},
   "source": [
    "# DecisionTreeClassifier Example"
   ]
  },
  {
   "cell_type": "markdown",
   "id": "4a0c33f4",
   "metadata": {},
   "source": [
    "Minimal working example for a DecisionTreeClassifier using sklearn. The dataset is purposely kept small as it's only supposed to give a simple setup draft for a DecisionTreeClassifier."
   ]
  },
  {
   "cell_type": "markdown",
   "id": "d3fb8535",
   "metadata": {},
   "source": [
    "## 1. load example Data"
   ]
  },
  {
   "cell_type": "markdown",
   "id": "e5e2dad3",
   "metadata": {},
   "source": [
    "Loading the data. In this case we use a very small version of the iris dataset, to provide a minimal working example. "
   ]
  },
  {
   "cell_type": "code",
   "execution_count": 1,
   "id": "d61b2e48",
   "metadata": {},
   "outputs": [],
   "source": [
    "import pandas as pd\n",
    "\n",
    "df = pd.read_csv(\".././Data/iris.csv\")\n",
    "#df.head()"
   ]
  },
  {
   "cell_type": "markdown",
   "id": "d6dab38a",
   "metadata": {},
   "source": [
    "## 2. prepare data"
   ]
  },
  {
   "cell_type": "markdown",
   "id": "3ed9cc7a",
   "metadata": {},
   "source": [
    "Spot for data preparation. As this example is quiet simple to have a basic refference we just drop the unsude ID."
   ]
  },
  {
   "cell_type": "code",
   "execution_count": 2,
   "id": "21130ff1",
   "metadata": {},
   "outputs": [],
   "source": [
    "df = df.drop(\"Id\", axis = 1)"
   ]
  },
  {
   "cell_type": "markdown",
   "id": "20bfde2e",
   "metadata": {},
   "source": [
    "## 3. set parameters"
   ]
  },
  {
   "cell_type": "markdown",
   "id": "e8986f96",
   "metadata": {},
   "source": [
    "Space to set different parameters to allow for easy adjustments and keep a clean structure."
   ]
  },
  {
   "cell_type": "code",
   "execution_count": 3,
   "id": "f2dfcf03",
   "metadata": {},
   "outputs": [],
   "source": [
    "test_size = 0.25\n",
    "random_state = 0\n",
    "max_depth = 5\n",
    "min_samples_split = 5\n",
    "min_samples_leaf = 3"
   ]
  },
  {
   "cell_type": "markdown",
   "id": "0d45676c",
   "metadata": {},
   "source": [
    "## 4. train test split"
   ]
  },
  {
   "cell_type": "markdown",
   "id": "b5d36f1c",
   "metadata": {},
   "source": [
    "Create a train test split based on test_size set in parameters."
   ]
  },
  {
   "cell_type": "code",
   "execution_count": 7,
   "id": "9f2eac72",
   "metadata": {},
   "outputs": [],
   "source": [
    "from sklearn.model_selection import train_test_split\n",
    "\n",
    "X = df[ df.columns[df.columns!='PetalLengthCm']].values\n",
    "X = df[[\"SepalLengthCm\", \"SepalWidthCm\", \"PetalWidthCm\"]].values\n",
    "Y = df[[\"PetalLengthCm\"]].values\n",
    "\n",
    "X_train, X_test, y_train, y_test = train_test_split(X, Y, random_state = random_state, test_size = test_size)"
   ]
  },
  {
   "cell_type": "markdown",
   "id": "fe7aa8ad",
   "metadata": {},
   "source": [
    "## 5. Standardscaler"
   ]
  },
  {
   "cell_type": "markdown",
   "id": "5f00510f",
   "metadata": {},
   "source": [
    "Standadize values, so that the distance between them loweredby generalization which makes it easier for the model to work with."
   ]
  },
  {
   "cell_type": "code",
   "execution_count": 8,
   "id": "8d8ac003",
   "metadata": {},
   "outputs": [],
   "source": [
    "from sklearn.preprocessing import StandardScaler\n",
    "\n",
    "scaler = StandardScaler()\n",
    "scaler.fit(X_train)\n",
    "X_train = scaler.transform(X_train)\n",
    "X_test = scaler.transform(X_test)"
   ]
  },
  {
   "cell_type": "markdown",
   "id": "d65127ea",
   "metadata": {},
   "source": [
    "## 6. train model"
   ]
  },
  {
   "cell_type": "markdown",
   "id": "1b48f33b",
   "metadata": {},
   "source": [
    "Train the model."
   ]
  },
  {
   "cell_type": "code",
   "execution_count": 9,
   "id": "e427e1f2",
   "metadata": {},
   "outputs": [
    {
     "data": {
      "text/plain": [
       "DecisionTreeRegressor(max_depth=5, min_samples_leaf=3, min_samples_split=5,\n",
       "                      random_state=0)"
      ]
     },
     "execution_count": 9,
     "metadata": {},
     "output_type": "execute_result"
    }
   ],
   "source": [
    "from sklearn.tree import DecisionTreeRegressor\n",
    "\n",
    "model = DecisionTreeRegressor(random_state = random_state, max_depth=max_depth, min_samples_split = min_samples_split, \n",
    "                               min_samples_leaf = min_samples_leaf)\n",
    "model.fit(X_train, y_train)\n"
   ]
  },
  {
   "cell_type": "markdown",
   "id": "ba927641",
   "metadata": {},
   "source": [
    "## 7. validate model"
   ]
  },
  {
   "cell_type": "markdown",
   "id": "48d407fd",
   "metadata": {},
   "source": [
    "Validate the model using different methods like a simple score, calculated values for precision and recall or via a printed confusion matrix."
   ]
  },
  {
   "cell_type": "code",
   "execution_count": 10,
   "id": "3a87e186",
   "metadata": {},
   "outputs": [
    {
     "name": "stdout",
     "output_type": "stream",
     "text": [
      "0.95067224732289\n"
     ]
    }
   ],
   "source": [
    "print(model.score(X_test, y_test))"
   ]
  },
  {
   "cell_type": "markdown",
   "id": "93563c1c",
   "metadata": {},
   "source": [
    "### 7.1 visualize tree"
   ]
  },
  {
   "cell_type": "markdown",
   "id": "8912dfd2",
   "metadata": {},
   "source": [
    "Special step for DecisionTrees: visualize the tree for better understanding."
   ]
  },
  {
   "cell_type": "code",
   "execution_count": 13,
   "id": "c6e2187c",
   "metadata": {
    "scrolled": true
   },
   "outputs": [
    {
     "data": {
      "image/png": "[encoded data removed]",
      "text/plain": [
       "<Figure size 432x288 with 1 Axes>"
      ]
     },
     "metadata": {
      "needs_background": "light"
     },
     "output_type": "display_data"
    }
   ],
   "source": [
    "from matplotlib import pyplot as plt\n",
    "from sklearn import tree\n",
    "\n",
    "tree.plot_tree(model)\n",
    "plt.show()"
   ]
  },
  {
   "cell_type": "code",
   "execution_count": 27,
   "id": "f1f68551",
   "metadata": {},
   "outputs": [
    {
     "name": "stdout",
     "output_type": "stream",
     "text": [
      "5.457142857142856 - [5.1]\n",
      "4.433333333333333 - [4.]\n",
      "1.46 - [1.4]\n",
      "5.98 - [6.3]\n",
      "1.46 - [1.5]\n",
      "5.614285714285714 - [6.]\n",
      "1.46 - [1.3]\n",
      "4.88 - [4.7]\n",
      "4.433333333333333 - [4.8]\n",
      "4.433333333333333 - [4.]\n",
      "4.433333333333333 - [5.6]\n",
      "4.88 - [4.5]\n",
      "4.433333333333333 - [4.7]\n",
      "4.88 - [4.6]\n",
      "4.433333333333333 - [4.7]\n",
      "1.525 - [1.5]\n",
      "4.88 - [4.5]\n",
      "3.8428571428571425 - [4.4]\n",
      "1.4666666666666668 - [1.4]\n",
      "1.5666666666666667 - [1.3]\n",
      "5.1642857142857155 - [4.9]\n",
      "4.110000000000001 - [4.5]\n",
      "1.46 - [1.9]\n",
      "1.25 - [1.4]\n",
      "5.1642857142857155 - [4.8]\n",
      "1.46 - [1.]\n",
      "1.6000000000000003 - [1.9]\n",
      "4.433333333333333 - [4.3]\n",
      "3.266666666666667 - [3.3]\n",
      "1.6000000000000003 - [1.6]\n",
      "5.1642857142857155 - [5.5]\n",
      "4.110000000000001 - [4.5]\n",
      "1.46 - [1.5]\n",
      "5.1642857142857155 - [4.9]\n",
      "5.457142857142856 - [5.6]\n",
      "3.266666666666667 - [3.9]\n",
      "1.46 - [1.7]\n",
      "4.675 - [5.1]\n"
     ]
    }
   ],
   "source": [
    "y_test_pred = model.predict(X_test)\n",
    "\n",
    "for i in range(0, len(y_test_pred)):\n",
    "    print(str(y_test_pred[i]) + \" - \" + str(y_test[i]))"
   ]
  }
 ],
 "metadata": {
  "kernelspec": {
   "display_name": "Python 3 (ipykernel)",
   "language": "python",
   "name": "python3"
  },
  "language_info": {
   "codemirror_mode": {
    "name": "ipython",
    "version": 3
   },
   "file_extension": ".py",
   "mimetype": "text/x-python",
   "name": "python",
   "nbconvert_exporter": "python",
   "pygments_lexer": "ipython3",
   "version": "3.9.12"
  }
 },
 "nbformat": 4,
 "nbformat_minor": 5
}
