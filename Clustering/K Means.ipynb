{
 "cells": [
  {
   "cell_type": "markdown",
   "id": "70a66cd0",
   "metadata": {},
   "source": [
    "# K Means Example"
   ]
  },
  {
   "cell_type": "markdown",
   "id": "48538c74",
   "metadata": {},
   "source": [
    "Minimal working example for a K Means Clustering using sklearn. The dataset is purposely kept small as it's only supposed to give a simple setup draft for a K Means Clustering."
   ]
  },
  {
   "cell_type": "markdown",
   "id": "d3fb8535",
   "metadata": {},
   "source": [
    "## 1. load example Data"
   ]
  },
  {
   "cell_type": "markdown",
   "id": "b2546ba0",
   "metadata": {},
   "source": [
    "Loading the data. In this case we use a very small version of the iris dataset, to provide a minimal working example. "
   ]
  },
  {
   "cell_type": "code",
   "execution_count": 1,
   "id": "d61b2e48",
   "metadata": {},
   "outputs": [
    {
     "data": {
      "text/html": [
       "<div>\n",
       "<style scoped>\n",
       "    .dataframe tbody tr th:only-of-type {\n",
       "        vertical-align: middle;\n",
       "    }\n",
       "\n",
       "    .dataframe tbody tr th {\n",
       "        vertical-align: top;\n",
       "    }\n",
       "\n",
       "    .dataframe thead th {\n",
       "        text-align: right;\n",
       "    }\n",
       "</style>\n",
       "<table border=\"1\" class=\"dataframe\">\n",
       "  <thead>\n",
       "    <tr style=\"text-align: right;\">\n",
       "      <th></th>\n",
       "      <th>Id</th>\n",
       "      <th>SepalLengthCm</th>\n",
       "      <th>SepalWidthCm</th>\n",
       "      <th>PetalLengthCm</th>\n",
       "      <th>PetalWidthCm</th>\n",
       "      <th>Species</th>\n",
       "    </tr>\n",
       "  </thead>\n",
       "  <tbody>\n",
       "    <tr>\n",
       "      <th>0</th>\n",
       "      <td>1</td>\n",
       "      <td>5.1</td>\n",
       "      <td>3.5</td>\n",
       "      <td>1.4</td>\n",
       "      <td>0.2</td>\n",
       "      <td>Iris-setosa</td>\n",
       "    </tr>\n",
       "    <tr>\n",
       "      <th>1</th>\n",
       "      <td>2</td>\n",
       "      <td>4.9</td>\n",
       "      <td>3.0</td>\n",
       "      <td>1.4</td>\n",
       "      <td>0.2</td>\n",
       "      <td>Iris-setosa</td>\n",
       "    </tr>\n",
       "    <tr>\n",
       "      <th>2</th>\n",
       "      <td>3</td>\n",
       "      <td>4.7</td>\n",
       "      <td>3.2</td>\n",
       "      <td>1.3</td>\n",
       "      <td>0.2</td>\n",
       "      <td>Iris-setosa</td>\n",
       "    </tr>\n",
       "    <tr>\n",
       "      <th>3</th>\n",
       "      <td>4</td>\n",
       "      <td>4.6</td>\n",
       "      <td>3.1</td>\n",
       "      <td>1.5</td>\n",
       "      <td>0.2</td>\n",
       "      <td>Iris-setosa</td>\n",
       "    </tr>\n",
       "    <tr>\n",
       "      <th>4</th>\n",
       "      <td>5</td>\n",
       "      <td>5.0</td>\n",
       "      <td>3.6</td>\n",
       "      <td>1.4</td>\n",
       "      <td>0.2</td>\n",
       "      <td>Iris-setosa</td>\n",
       "    </tr>\n",
       "  </tbody>\n",
       "</table>\n",
       "</div>"
      ],
      "text/plain": [
       "   Id  SepalLengthCm  SepalWidthCm  PetalLengthCm  PetalWidthCm      Species\n",
       "0   1            5.1           3.5            1.4           0.2  Iris-setosa\n",
       "1   2            4.9           3.0            1.4           0.2  Iris-setosa\n",
       "2   3            4.7           3.2            1.3           0.2  Iris-setosa\n",
       "3   4            4.6           3.1            1.5           0.2  Iris-setosa\n",
       "4   5            5.0           3.6            1.4           0.2  Iris-setosa"
      ]
     },
     "execution_count": 1,
     "metadata": {},
     "output_type": "execute_result"
    }
   ],
   "source": [
    "import pandas as pd\n",
    "\n",
    "df = pd.read_csv(\".././Data/iris.csv\")\n",
    "df.head()"
   ]
  },
  {
   "cell_type": "markdown",
   "id": "d6dab38a",
   "metadata": {},
   "source": [
    "## 2. prepare data"
   ]
  },
  {
   "cell_type": "markdown",
   "id": "c09ff834",
   "metadata": {},
   "source": [
    "Spot for data preparation. As this example is quiet simple to have a basic refference we just drop the unsude ID."
   ]
  },
  {
   "cell_type": "code",
   "execution_count": 2,
   "id": "21130ff1",
   "metadata": {},
   "outputs": [],
   "source": [
    "df = df.drop(\"Id\", axis = 1)"
   ]
  },
  {
   "cell_type": "markdown",
   "id": "20bfde2e",
   "metadata": {},
   "source": [
    "## 3. set parameters"
   ]
  },
  {
   "cell_type": "markdown",
   "id": "e706fde6",
   "metadata": {},
   "source": [
    "Space to set different parameters to allow for easy adjustments and keep a clean structure."
   ]
  },
  {
   "cell_type": "code",
   "execution_count": 20,
   "id": "f2dfcf03",
   "metadata": {},
   "outputs": [],
   "source": [
    "test_size = 0.25\n",
    "random_state = 0\n",
    "n_clusters = 3"
   ]
  },
  {
   "cell_type": "markdown",
   "id": "fa5a69d1",
   "metadata": {},
   "source": [
    "## 4. Split X and Y"
   ]
  },
  {
   "cell_type": "code",
   "execution_count": 4,
   "id": "d0cd4e4f",
   "metadata": {},
   "outputs": [],
   "source": [
    "X = df[ df.columns[df.columns!='Species']].values\n",
    "X = df[[\"SepalLengthCm\", \"SepalWidthCm\", \"PetalLengthCm\", \"PetalWidthCm\"]].values\n",
    "Y = df[[\"Species\"]].values"
   ]
  },
  {
   "cell_type": "markdown",
   "id": "fe7aa8ad",
   "metadata": {},
   "source": [
    "## 5. Standardscaler"
   ]
  },
  {
   "cell_type": "markdown",
   "id": "33c0ee44",
   "metadata": {},
   "source": [
    "Standadize values, so that the distance between them loweredby generalization which makes it easier for the model to work with."
   ]
  },
  {
   "cell_type": "code",
   "execution_count": 21,
   "id": "8d8ac003",
   "metadata": {},
   "outputs": [],
   "source": [
    "from sklearn.preprocessing import StandardScaler\n",
    "\n",
    "scaler = StandardScaler()\n",
    "scaler.fit(X)\n",
    "X_transformed = scaler.transform(X)\n",
    "Y_transformed = scaler.transform(X)"
   ]
  },
  {
   "cell_type": "markdown",
   "id": "d65127ea",
   "metadata": {},
   "source": [
    "## 6. train model"
   ]
  },
  {
   "cell_type": "markdown",
   "id": "06a35886",
   "metadata": {},
   "source": [
    "Train the model."
   ]
  },
  {
   "cell_type": "code",
   "execution_count": 22,
   "id": "58c50e19",
   "metadata": {},
   "outputs": [
    {
     "data": {
      "text/plain": [
       "KMeans(n_clusters=3, random_state=0)"
      ]
     },
     "execution_count": 22,
     "metadata": {},
     "output_type": "execute_result"
    }
   ],
   "source": [
    "from sklearn.cluster import KMeans\n",
    "\n",
    "model = KMeans(random_state=random_state, n_clusters =n_clusters)\n",
    "model.fit(X_transformed, Y_transformed)\n"
   ]
  },
  {
   "cell_type": "markdown",
   "id": "ba927641",
   "metadata": {},
   "source": [
    "## 7. analyse model"
   ]
  },
  {
   "cell_type": "markdown",
   "id": "03c0842a",
   "metadata": {},
   "source": [
    "Analyse the created model. Check clusters and use elbow method to see if number of clusters can be chosen better."
   ]
  },
  {
   "cell_type": "code",
   "execution_count": 23,
   "id": "3a87e186",
   "metadata": {},
   "outputs": [
    {
     "name": "stdout",
     "output_type": "stream",
     "text": [
      "-140.965816630747\n"
     ]
    }
   ],
   "source": [
    "print(model.score(X_transformed, Y_transformed))"
   ]
  },
  {
   "cell_type": "code",
   "execution_count": 24,
   "id": "d7fbfa5b",
   "metadata": {},
   "outputs": [
    {
     "data": {
      "text/plain": [
       "array([[-0.05021989, -0.88029181,  0.34753171,  0.28206327],\n",
       "       [-1.01457897,  0.84230679, -1.30487835, -1.25512862],\n",
       "       [ 1.13597027,  0.09659843,  0.996271  ,  1.01717187]])"
      ]
     },
     "execution_count": 24,
     "metadata": {},
     "output_type": "execute_result"
    }
   ],
   "source": [
    "model.cluster_centers_"
   ]
  },
  {
   "cell_type": "code",
   "execution_count": 25,
   "id": "d096d852",
   "metadata": {},
   "outputs": [
    {
     "data": {
      "image/png": "[encoded data removed]",
      "text/plain": [
       "<Figure size 432x288 with 1 Axes>"
      ]
     },
     "metadata": {
      "needs_background": "light"
     },
     "output_type": "display_data"
    }
   ],
   "source": [
    "labels = model.labels_\n",
    "\n",
    "%matplotlib inline\n",
    "\n",
    "import matplotlib.pyplot as plt\n",
    "\n",
    "plt.scatter(df[\"SepalLengthCm\"], df[\"SepalWidthCm\"], c = labels)\n",
    "plt.show()"
   ]
  },
  {
   "cell_type": "code",
   "execution_count": 26,
   "id": "89021072",
   "metadata": {},
   "outputs": [
    {
     "data": {
      "image/png": "[encoded data removed]",
      "text/plain": [
       "<Figure size 432x288 with 1 Axes>"
      ]
     },
     "metadata": {
      "needs_background": "light"
     },
     "output_type": "display_data"
    }
   ],
   "source": [
    "%matplotlib inline\n",
    "\n",
    "\n",
    "plt.scatter(df[\"PetalLengthCm\"], df[\"PetalWidthCm\"], c = labels)\n",
    "plt.show()"
   ]
  },
  {
   "cell_type": "code",
   "execution_count": 7,
   "id": "c897f538",
   "metadata": {},
   "outputs": [],
   "source": [
    "scores = []\n",
    "for n in range(2, 10):\n",
    "    model = KMeans(n_clusters = n)\n",
    "    model.fit(X_transformed)\n",
    "    scores.append(model.inertia_)"
   ]
  },
  {
   "cell_type": "code",
   "execution_count": 8,
   "id": "cf62049c",
   "metadata": {},
   "outputs": [
    {
     "data": {
      "image/png": "[encoded data removed]",
      "text/plain": [
       "<Figure size 432x288 with 1 Axes>"
      ]
     },
     "metadata": {
      "needs_background": "light"
     },
     "output_type": "display_data"
    }
   ],
   "source": [
    "%matplotlib inline\n",
    "\n",
    "import matplotlib.pyplot as plt\n",
    "\n",
    "plt.plot(range(2, 10), scores)\n",
    "plt.show()"
   ]
  },
  {
   "cell_type": "markdown",
   "id": "58677cd9",
   "metadata": {},
   "source": [
    "Chose n where the strongest shift from a vertical to horizontal trend is noticeable."
   ]
  }
 ],
 "metadata": {
  "kernelspec": {
   "display_name": "Python 3 (ipykernel)",
   "language": "python",
   "name": "python3"
  },
  "language_info": {
   "codemirror_mode": {
    "name": "ipython",
    "version": 3
   },
   "file_extension": ".py",
   "mimetype": "text/x-python",
   "name": "python",
   "nbconvert_exporter": "python",
   "pygments_lexer": "ipython3",
   "version": "3.9.12"
  }
 },
 "nbformat": 4,
 "nbformat_minor": 5
}
