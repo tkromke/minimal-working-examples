{
 "cells": [
  {
   "cell_type": "markdown",
   "id": "70a66cd0",
   "metadata": {},
   "source": [
    "# Naive Bayes Example"
   ]
  },
  {
   "cell_type": "markdown",
   "id": "48538c74",
   "metadata": {},
   "source": [
    "Minimal working example for a Naive Bayes Classifier using sklearn. The dataset is purposely kept small as it's only supposed to give a simple setup draft for a Naive Bayes Clasifier."
   ]
  },
  {
   "cell_type": "markdown",
   "id": "d3fb8535",
   "metadata": {},
   "source": [
    "## 1. load example Data"
   ]
  },
  {
   "cell_type": "markdown",
   "id": "b2546ba0",
   "metadata": {},
   "source": [
    "Loading the data. In this case we use a very small version of the iris dataset, to provide a minimal working example. "
   ]
  },
  {
   "cell_type": "code",
   "execution_count": 1,
   "id": "d61b2e48",
   "metadata": {},
   "outputs": [],
   "source": [
    "import pandas as pd\n",
    "\n",
    "df = pd.read_csv(\".././Data/iris.csv\")\n",
    "#df.head()"
   ]
  },
  {
   "cell_type": "markdown",
   "id": "d6dab38a",
   "metadata": {},
   "source": [
    "## 2. prepare data"
   ]
  },
  {
   "cell_type": "markdown",
   "id": "c09ff834",
   "metadata": {},
   "source": [
    "Spot for data preparation. As this example is quiet simple to have a basic refference we just drop the unsude ID."
   ]
  },
  {
   "cell_type": "code",
   "execution_count": 2,
   "id": "21130ff1",
   "metadata": {},
   "outputs": [],
   "source": [
    "df = df.drop(\"Id\", axis = 1)"
   ]
  },
  {
   "cell_type": "markdown",
   "id": "20bfde2e",
   "metadata": {},
   "source": [
    "## 3. set parameters"
   ]
  },
  {
   "cell_type": "markdown",
   "id": "e706fde6",
   "metadata": {},
   "source": [
    "Space to set different parameters to allow for easy adjustments and keep a clean structure."
   ]
  },
  {
   "cell_type": "code",
   "execution_count": 3,
   "id": "f2dfcf03",
   "metadata": {},
   "outputs": [],
   "source": [
    "test_size = 0.25\n",
    "random_state = 0"
   ]
  },
  {
   "cell_type": "markdown",
   "id": "0d45676c",
   "metadata": {},
   "source": [
    "## 4. train test split"
   ]
  },
  {
   "cell_type": "markdown",
   "id": "4fcd17a5",
   "metadata": {},
   "source": [
    "Create a train test split based on test_size set in parameters."
   ]
  },
  {
   "cell_type": "code",
   "execution_count": 4,
   "id": "9f2eac72",
   "metadata": {},
   "outputs": [],
   "source": [
    "from sklearn.model_selection import train_test_split\n",
    "\n",
    "X = df[ df.columns[df.columns!='Species']].values\n",
    "X = df[[\"SepalLengthCm\", \"SepalWidthCm\", \"PetalLengthCm\", \"PetalWidthCm\"]].values\n",
    "Y = df[[\"Species\"]].values\n",
    "\n",
    "X_train, X_test, y_train, y_test = train_test_split(X, Y, random_state = random_state, test_size = test_size)"
   ]
  },
  {
   "cell_type": "markdown",
   "id": "fe7aa8ad",
   "metadata": {},
   "source": [
    "## 5. Standardscaler"
   ]
  },
  {
   "cell_type": "markdown",
   "id": "33c0ee44",
   "metadata": {},
   "source": [
    "Standadize values, so that the distance between them loweredby generalization which makes it easier for the model to work with."
   ]
  },
  {
   "cell_type": "code",
   "execution_count": 5,
   "id": "8d8ac003",
   "metadata": {},
   "outputs": [],
   "source": [
    "from sklearn.preprocessing import StandardScaler\n",
    "\n",
    "scaler = StandardScaler()\n",
    "scaler.fit(X_train)\n",
    "X_train = scaler.transform(X_train)\n",
    "X_test = scaler.transform(X_test)"
   ]
  },
  {
   "cell_type": "markdown",
   "id": "d65127ea",
   "metadata": {},
   "source": [
    "## 6. train model"
   ]
  },
  {
   "cell_type": "markdown",
   "id": "06a35886",
   "metadata": {},
   "source": [
    "Train the model."
   ]
  },
  {
   "cell_type": "code",
   "execution_count": 9,
   "id": "58c50e19",
   "metadata": {},
   "outputs": [
    {
     "name": "stderr",
     "output_type": "stream",
     "text": [
      "/Users/tkromke/anaconda3/lib/python3.9/site-packages/sklearn/utils/validation.py:993: DataConversionWarning: A column-vector y was passed when a 1d array was expected. Please change the shape of y to (n_samples, ), for example using ravel().\n",
      "  y = column_or_1d(y, warn=True)\n"
     ]
    },
    {
     "data": {
      "text/plain": [
       "GaussianNB()"
      ]
     },
     "execution_count": 9,
     "metadata": {},
     "output_type": "execute_result"
    }
   ],
   "source": [
    "from sklearn.naive_bayes import GaussianNB\n",
    "\n",
    "model = GaussianNB()\n",
    "model.fit(X_train, y_train)\n"
   ]
  },
  {
   "cell_type": "markdown",
   "id": "ba927641",
   "metadata": {},
   "source": [
    "## 7. validate model"
   ]
  },
  {
   "cell_type": "markdown",
   "id": "03c0842a",
   "metadata": {},
   "source": [
    "Validate the model using different methods like a simple score, calculated values for precision and recall or via a printed confusion matrix."
   ]
  },
  {
   "cell_type": "code",
   "execution_count": 10,
   "id": "3a87e186",
   "metadata": {},
   "outputs": [
    {
     "name": "stdout",
     "output_type": "stream",
     "text": [
      "1.0\n"
     ]
    }
   ],
   "source": [
    "print(model.score(X_test, y_test))"
   ]
  },
  {
   "cell_type": "markdown",
   "id": "5013948c",
   "metadata": {},
   "source": [
    "### 7.1 confusion matrix"
   ]
  },
  {
   "cell_type": "code",
   "execution_count": 11,
   "id": "ceaa11c1",
   "metadata": {},
   "outputs": [
    {
     "name": "stdout",
     "output_type": "stream",
     "text": [
      "Confusion matrix, without normalization\n",
      "[[13  0  0]\n",
      " [ 0 16  0]\n",
      " [ 0  0  9]]\n",
      "Normalized confusion matrix\n",
      "[[1. 0. 0.]\n",
      " [0. 1. 0.]\n",
      " [0. 0. 1.]]\n"
     ]
    },
    {
     "data": {
      "image/png": "[encoded data removed]",
      "text/plain": [
       "<Figure size 432x288 with 2 Axes>"
      ]
     },
     "metadata": {
      "needs_background": "light"
     },
     "output_type": "display_data"
    },
    {
     "data": {
      "image/png": "[encoded data removed]",
      "text/plain": [
       "<Figure size 432x288 with 2 Axes>"
      ]
     },
     "metadata": {
      "needs_background": "light"
     },
     "output_type": "display_data"
    }
   ],
   "source": [
    "from sklearn.metrics import ConfusionMatrixDisplay\n",
    "from matplotlib import pyplot as plt\n",
    "\n",
    "import numpy as np\n",
    "\n",
    "\n",
    "titles_options = [\n",
    "    (\"Confusion matrix, without normalization\", None),\n",
    "    (\"Normalized confusion matrix\", \"true\"),\n",
    "]\n",
    "for title, normalize in titles_options:\n",
    "    disp = ConfusionMatrixDisplay.from_estimator(\n",
    "        model,\n",
    "        X_test,\n",
    "        y_test,\n",
    "        display_labels=np.unique(Y),\n",
    "        cmap=plt.cm.Blues,\n",
    "        normalize=normalize,\n",
    "    )\n",
    "    disp.ax_.set_title(title)\n",
    "\n",
    "    print(title)\n",
    "    print(disp.confusion_matrix)\n",
    "\n",
    "plt.show()"
   ]
  },
  {
   "cell_type": "markdown",
   "id": "82864122",
   "metadata": {},
   "source": [
    "### 7.2 precision / recall"
   ]
  },
  {
   "cell_type": "code",
   "execution_count": 12,
   "id": "73f58bb9",
   "metadata": {
    "scrolled": true
   },
   "outputs": [
    {
     "name": "stdout",
     "output_type": "stream",
     "text": [
      "1.0\n",
      "1.0\n"
     ]
    }
   ],
   "source": [
    "from sklearn.metrics import precision_score, recall_score\n",
    "\n",
    "y_test_pred = model.predict(X_test)\n",
    "\n",
    "\n",
    "print(precision_score(y_test, y_test_pred, average = \"weighted\"))\n",
    "print(recall_score(y_test, y_test_pred, average = \"weighted\"))"
   ]
  }
 ],
 "metadata": {
  "kernelspec": {
   "display_name": "Python 3 (ipykernel)",
   "language": "python",
   "name": "python3"
  },
  "language_info": {
   "codemirror_mode": {
    "name": "ipython",
    "version": 3
   },
   "file_extension": ".py",
   "mimetype": "text/x-python",
   "name": "python",
   "nbconvert_exporter": "python",
   "pygments_lexer": "ipython3",
   "version": "3.9.12"
  }
 },
 "nbformat": 4,
 "nbformat_minor": 5
}
