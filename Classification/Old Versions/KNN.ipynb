{
 "cells": [
  {
   "cell_type": "markdown",
   "id": "70a66cd0",
   "metadata": {},
   "source": [
    "# K-NN Example"
   ]
  },
  {
   "cell_type": "markdown",
   "id": "d3fb8535",
   "metadata": {},
   "source": [
    "## load example Data"
   ]
  },
  {
   "cell_type": "code",
   "execution_count": 1,
   "id": "d61b2e48",
   "metadata": {},
   "outputs": [],
   "source": [
    "import pandas as pd\n",
    "\n",
    "df = pd.read_csv(\"./Data/iris.csv\")\n",
    "\n",
    "#df.head()"
   ]
  },
  {
   "cell_type": "markdown",
   "id": "d6dab38a",
   "metadata": {},
   "source": [
    "## prepare data"
   ]
  },
  {
   "cell_type": "code",
   "execution_count": 2,
   "id": "21130ff1",
   "metadata": {},
   "outputs": [],
   "source": [
    "df = df.drop(\"Id\", axis = 1)"
   ]
  },
  {
   "cell_type": "markdown",
   "id": "20bfde2e",
   "metadata": {},
   "source": [
    "## set parameters"
   ]
  },
  {
   "cell_type": "code",
   "execution_count": 3,
   "id": "f2dfcf03",
   "metadata": {},
   "outputs": [],
   "source": [
    "test_size = 0.25\n",
    "random_state = 0\n",
    "n_neighbors = 5"
   ]
  },
  {
   "cell_type": "markdown",
   "id": "0d45676c",
   "metadata": {},
   "source": [
    "## train test split"
   ]
  },
  {
   "cell_type": "code",
   "execution_count": 4,
   "id": "9f2eac72",
   "metadata": {},
   "outputs": [],
   "source": [
    "from sklearn.model_selection import train_test_split\n",
    "\n",
    "X = df[ df.columns[df.columns!='Species']].values\n",
    "X = df[[\"SepalLengthCm\", \"SepalWidthCm\", \"PetalLengthCm\", \"PetalWidthCm\"]].values\n",
    "Y = df[[\"Species\"]].values\n",
    "\n",
    "X_train, X_test, y_train, y_test = train_test_split(X, Y, random_state = random_state, test_size = test_size)"
   ]
  },
  {
   "cell_type": "markdown",
   "id": "fe7aa8ad",
   "metadata": {},
   "source": [
    "## Standardscaler"
   ]
  },
  {
   "cell_type": "code",
   "execution_count": 5,
   "id": "8d8ac003",
   "metadata": {},
   "outputs": [],
   "source": [
    "from sklearn.preprocessing import StandardScaler\n",
    "\n",
    "scaler = StandardScaler()\n",
    "scaler.fit(X_train)\n",
    "\n",
    "X_train = scaler.transform(X_train)\n",
    "X_test = scaler.transform(X_test)"
   ]
  },
  {
   "cell_type": "markdown",
   "id": "d65127ea",
   "metadata": {},
   "source": [
    "## train model"
   ]
  },
  {
   "cell_type": "code",
   "execution_count": 6,
   "id": "41f0b803",
   "metadata": {},
   "outputs": [
    {
     "name": "stderr",
     "output_type": "stream",
     "text": [
      "/Users/tkromke/anaconda3/lib/python3.9/site-packages/sklearn/neighbors/_classification.py:198: DataConversionWarning: A column-vector y was passed when a 1d array was expected. Please change the shape of y to (n_samples,), for example using ravel().\n",
      "  return self._fit(X, y)\n"
     ]
    },
    {
     "data": {
      "text/plain": [
       "KNeighborsClassifier()"
      ]
     },
     "execution_count": 6,
     "metadata": {},
     "output_type": "execute_result"
    }
   ],
   "source": [
    "from sklearn.neighbors import KNeighborsClassifier\n",
    "\n",
    "model = KNeighborsClassifier(n_neighbors=n_neighbors)\n",
    "model.fit(X_train, y_train)\n"
   ]
  },
  {
   "cell_type": "markdown",
   "id": "ba927641",
   "metadata": {},
   "source": [
    "# validate model"
   ]
  },
  {
   "cell_type": "code",
   "execution_count": 7,
   "id": "3a87e186",
   "metadata": {},
   "outputs": [
    {
     "name": "stdout",
     "output_type": "stream",
     "text": [
      "0.9736842105263158\n"
     ]
    }
   ],
   "source": [
    "print(model.score(X_test, y_test))"
   ]
  },
  {
   "cell_type": "markdown",
   "id": "5013948c",
   "metadata": {},
   "source": [
    "## confusion matrix"
   ]
  },
  {
   "cell_type": "code",
   "execution_count": 8,
   "id": "75c6608a",
   "metadata": {},
   "outputs": [
    {
     "data": {
      "text/plain": [
       "array([[13,  0,  0],\n",
       "       [ 0, 15,  1],\n",
       "       [ 0,  0,  9]])"
      ]
     },
     "execution_count": 8,
     "metadata": {},
     "output_type": "execute_result"
    }
   ],
   "source": [
    "y_test_pred = model.predict(X_test)\n",
    "from sklearn.metrics import confusion_matrix\n",
    "confusion_matrix(y_test, y_test_pred)"
   ]
  },
  {
   "cell_type": "markdown",
   "id": "82864122",
   "metadata": {},
   "source": [
    "## precision / recall"
   ]
  },
  {
   "cell_type": "code",
   "execution_count": 16,
   "id": "73f58bb9",
   "metadata": {},
   "outputs": [
    {
     "name": "stdout",
     "output_type": "stream",
     "text": [
      "0.9763157894736842\n",
      "0.9736842105263158\n"
     ]
    }
   ],
   "source": [
    "from sklearn.metrics import precision_score, recall_score\n",
    "\n",
    "\n",
    "print(precision_score(y_test, y_test_pred, average = \"weighted\"))\n",
    "print(recall_score(y_test, y_test_pred, average = \"weighted\"))"
   ]
  }
 ],
 "metadata": {
  "kernelspec": {
   "display_name": "Python 3 (ipykernel)",
   "language": "python",
   "name": "python3"
  },
  "language_info": {
   "codemirror_mode": {
    "name": "ipython",
    "version": 3
   },
   "file_extension": ".py",
   "mimetype": "text/x-python",
   "name": "python",
   "nbconvert_exporter": "python",
   "pygments_lexer": "ipython3",
   "version": "3.9.12"
  }
 },
 "nbformat": 4,
 "nbformat_minor": 5
}
